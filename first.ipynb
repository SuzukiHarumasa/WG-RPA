{
 "cells": [
  {
   "cell_type": "code",
   "execution_count": 1,
   "metadata": {},
   "outputs": [],
   "source": [
    "import sys\n",
    "\n",
    "sys.path.append('/Users/suzukiharumasaru/apps/WG-RPA/pytools')\n",
    "\n",
    "import pandas as pd\n",
    "from gsheets import GSheets\n"
   ]
  },
  {
   "cell_type": "code",
   "execution_count": 54,
   "metadata": {},
   "outputs": [],
   "source": [
    "# インスタンスを生成\n",
    "creds = '/Users/suzukiharumasaru/apps/WG-RPA/seacrets/rpa-shokikikaku-a6bba716cf27.json'\n",
    "gs = GSheets(creds)"
   ]
  },
  {
   "cell_type": "code",
   "execution_count": 123,
   "metadata": {},
   "outputs": [
    {
     "data": {
      "text/plain": [
       "<Spreadsheet 'inputシート' id:1hQikhwgt8VSNC6GcfhFhHqQPAfoLygBJrK0cG_Ja3xc>"
      ]
     },
     "execution_count": 123,
     "metadata": {},
     "output_type": "execute_result"
    }
   ],
   "source": [
    "# 必要な情報を取得する\n",
    "input_id = '1hQikhwgt8VSNC6GcfhFhHqQPAfoLygBJrK0cG_Ja3xc'\n",
    "\n",
    "sheets = gs.gc.open_by_key(input_id)\n",
    "sheets"
   ]
  },
  {
   "cell_type": "code",
   "execution_count": 124,
   "metadata": {},
   "outputs": [
    {
     "data": {
      "text/html": [
       "<div>\n",
       "<style scoped>\n",
       "    .dataframe tbody tr th:only-of-type {\n",
       "        vertical-align: middle;\n",
       "    }\n",
       "\n",
       "    .dataframe tbody tr th {\n",
       "        vertical-align: top;\n",
       "    }\n",
       "\n",
       "    .dataframe thead th {\n",
       "        text-align: right;\n",
       "    }\n",
       "</style>\n",
       "<table border=\"1\" class=\"dataframe\">\n",
       "  <thead>\n",
       "    <tr style=\"text-align: right;\">\n",
       "      <th></th>\n",
       "      <th>日時</th>\n",
       "      <th>メールアドレス</th>\n",
       "      <th>対策サイト</th>\n",
       "      <th>対策サイト_サイト名</th>\n",
       "      <th>対策サイト（ドメイン抽出）</th>\n",
       "      <th>取引先webサイト</th>\n",
       "      <th>メインキーワード</th>\n",
       "      <th>指定競合サイト×3社以上</th>\n",
       "      <th>初期企画依頼日</th>\n",
       "      <th>競合①_URL</th>\n",
       "      <th>...</th>\n",
       "      <th>競合④_サイト名</th>\n",
       "      <th>競合⑤_URL</th>\n",
       "      <th>競合⑤_サイト名</th>\n",
       "      <th>競合⑥_URL</th>\n",
       "      <th>競合⑥_サイト名</th>\n",
       "      <th>最重要キーワード</th>\n",
       "      <th>上位表示分析結果URL</th>\n",
       "      <th>自社及び競合サイトのディレクトリ構造</th>\n",
       "      <th>GAのアカウントID</th>\n",
       "      <th>GAのビューID</th>\n",
       "    </tr>\n",
       "  </thead>\n",
       "  <tbody>\n",
       "    <tr>\n",
       "      <th>1</th>\n",
       "      <td>2023/2/21</td>\n",
       "      <td>suzuki.harumasa@willgate.co.jp</td>\n",
       "      <td>https://www.wifi-rental.com/</td>\n",
       "      <td>WiFiレンタルどっとこむ</td>\n",
       "      <td>https://www.wifi-rental.com/</td>\n",
       "      <td>株式会社ビジョン（wifi-rental.com）</td>\n",
       "      <td>Wifiレンタル</td>\n",
       "      <td>https://www.netage.ne.jp/</td>\n",
       "      <td>2023/2/21</td>\n",
       "      <td>https://www.netage.ne.jp/</td>\n",
       "      <td>...</td>\n",
       "      <td>Broad WiMAX</td>\n",
       "      <td>https://www.just-size.net/</td>\n",
       "      <td>Just-Size.Networks</td>\n",
       "      <td>https://shibarinashi-wifi.jp</td>\n",
       "      <td>《公式》縛りなしWiFi</td>\n",
       "      <td>海外 wifi レンタル</td>\n",
       "      <td>https://tact-seo.com/clients/815/sites/915/seo...</td>\n",
       "      <td></td>\n",
       "      <td>t3dwillgate@gmail.com</td>\n",
       "      <td>52781251</td>\n",
       "    </tr>\n",
       "  </tbody>\n",
       "</table>\n",
       "<p>1 rows × 26 columns</p>\n",
       "</div>"
      ],
      "text/plain": [
       "          日時                         メールアドレス                         対策サイト  \\\n",
       "1  2023/2/21  suzuki.harumasa@willgate.co.jp  https://www.wifi-rental.com/   \n",
       "\n",
       "      対策サイト_サイト名                 対策サイト（ドメイン抽出）                  取引先webサイト  \\\n",
       "1  WiFiレンタルどっとこむ  https://www.wifi-rental.com/  株式会社ビジョン（wifi-rental.com）   \n",
       "\n",
       "   メインキーワード               指定競合サイト×3社以上    初期企画依頼日                    競合①_URL  \\\n",
       "1  Wifiレンタル  https://www.netage.ne.jp/  2023/2/21  https://www.netage.ne.jp/   \n",
       "\n",
       "   ...     競合④_サイト名                     競合⑤_URL            競合⑤_サイト名  \\\n",
       "1  ...  Broad WiMAX  https://www.just-size.net/  Just-Size.Networks   \n",
       "\n",
       "                        競合⑥_URL      競合⑥_サイト名      最重要キーワード  \\\n",
       "1  https://shibarinashi-wifi.jp  《公式》縛りなしWiFi  海外 wifi レンタル   \n",
       "\n",
       "                                         上位表示分析結果URL 自社及び競合サイトのディレクトリ構造  \\\n",
       "1  https://tact-seo.com/clients/815/sites/915/seo...                      \n",
       "\n",
       "               GAのアカウントID  GAのビューID  \n",
       "1   t3dwillgate@gmail.com  52781251  \n",
       "\n",
       "[1 rows x 26 columns]"
      ]
     },
     "execution_count": 124,
     "metadata": {},
     "output_type": "execute_result"
    }
   ],
   "source": [
    "sheet = sheets.worksheet('input')\n",
    "content = sheet.get_values()\n",
    "#シートの中身をデータフレーム化\n",
    "df = pd.DataFrame(content, columns = content[0]).drop(0)\n",
    "df"
   ]
  },
  {
   "cell_type": "code",
   "execution_count": 125,
   "metadata": {},
   "outputs": [],
   "source": [
    "# データ整形\n",
    "input_fields = ['対策サイト',\n",
    "'対策サイト_サイト名',\n",
    "'対策サイト（ドメイン抽出）',\n",
    "'競合①_URL',\n",
    "'競合①_サイト名',\n",
    "'競合②_URL',\n",
    "'競合②_サイト名',\n",
    "'競合③_URL',\n",
    "'競合③_サイト名',\n",
    "'競合④_URL',\n",
    "'競合④_サイト名',\n",
    "'競合⑤_URL',\n",
    "'競合⑤_サイト名',\n",
    "'競合⑥_URL',\n",
    "'競合⑥_サイト名',\n",
    "'最重要キーワード',\n",
    "'上位表示分析結果URL',\n",
    "'GAのアカウントID',\n",
    "'GAのビューID']\n",
    "\n",
    "output_field=[\n",
    "'対策サイト_URL',\n",
    "'対策サイト_サイト名',\n",
    "'対策サイト（ドメイン抽出）',\n",
    "'競合①_URL',\n",
    "'競合①_サイト名',\n",
    "'競合②_URL',\n",
    "'競合②_サイト名',\n",
    "'競合③_URL',\n",
    "'競合③_サイト名',\n",
    "'競合④_URL',\n",
    "'競合④_サイト名',\n",
    "'競合⑤_URL',\n",
    "'競合⑤_サイト名',\n",
    "'競合⑥_URL',\n",
    "'競合⑥_サイト名',\n",
    "'最重要キーワード',\n",
    "'上位表示分析結果URL',\n",
    "'GAのアカウントID',\n",
    "'GAのビューID',\n",
    "]\n",
    "\n",
    "input_df = df[input_fields]\n",
    "input_df.columns = output_field"
   ]
  },
  {
   "cell_type": "code",
   "execution_count": 126,
   "metadata": {},
   "outputs": [
    {
     "data": {
      "text/html": [
       "<div>\n",
       "<style scoped>\n",
       "    .dataframe tbody tr th:only-of-type {\n",
       "        vertical-align: middle;\n",
       "    }\n",
       "\n",
       "    .dataframe tbody tr th {\n",
       "        vertical-align: top;\n",
       "    }\n",
       "\n",
       "    .dataframe thead th {\n",
       "        text-align: right;\n",
       "    }\n",
       "</style>\n",
       "<table border=\"1\" class=\"dataframe\">\n",
       "  <thead>\n",
       "    <tr style=\"text-align: right;\">\n",
       "      <th></th>\n",
       "      <th>対策サイト_URL</th>\n",
       "      <th>対策サイト_サイト名</th>\n",
       "      <th>対策サイト（ドメイン抽出）</th>\n",
       "      <th>競合①_URL</th>\n",
       "      <th>競合①_サイト名</th>\n",
       "      <th>競合②_URL</th>\n",
       "      <th>競合②_サイト名</th>\n",
       "      <th>競合③_URL</th>\n",
       "      <th>競合③_サイト名</th>\n",
       "      <th>競合④_URL</th>\n",
       "      <th>競合④_サイト名</th>\n",
       "      <th>競合⑤_URL</th>\n",
       "      <th>競合⑤_サイト名</th>\n",
       "      <th>競合⑥_URL</th>\n",
       "      <th>競合⑥_サイト名</th>\n",
       "      <th>最重要キーワード</th>\n",
       "      <th>上位表示分析結果URL</th>\n",
       "      <th>GAのアカウントID</th>\n",
       "      <th>GAのビューID</th>\n",
       "    </tr>\n",
       "  </thead>\n",
       "  <tbody>\n",
       "    <tr>\n",
       "      <th>1</th>\n",
       "      <td>https://www.wifi-rental.com/</td>\n",
       "      <td>WiFiレンタルどっとこむ</td>\n",
       "      <td>https://www.wifi-rental.com/</td>\n",
       "      <td>https://www.netage.ne.jp/</td>\n",
       "      <td>【公式】NETAGE</td>\n",
       "      <td>https://wifistore.jp/</td>\n",
       "      <td>【公式】WiFiストア</td>\n",
       "      <td>https://www.rental-store.jp/</td>\n",
       "      <td>WiFiレンタル屋さん</td>\n",
       "      <td>https://wimax-broad.jp/</td>\n",
       "      <td>Broad WiMAX</td>\n",
       "      <td>https://www.just-size.net/</td>\n",
       "      <td>Just-Size.Networks</td>\n",
       "      <td>https://shibarinashi-wifi.jp</td>\n",
       "      <td>《公式》縛りなしWiFi</td>\n",
       "      <td>海外 wifi レンタル</td>\n",
       "      <td>https://tact-seo.com/clients/815/sites/915/seo...</td>\n",
       "      <td>t3dwillgate@gmail.com</td>\n",
       "      <td>52781251</td>\n",
       "    </tr>\n",
       "  </tbody>\n",
       "</table>\n",
       "</div>"
      ],
      "text/plain": [
       "                      対策サイト_URL     対策サイト_サイト名                 対策サイト（ドメイン抽出）  \\\n",
       "1  https://www.wifi-rental.com/  WiFiレンタルどっとこむ  https://www.wifi-rental.com/   \n",
       "\n",
       "                     競合①_URL    競合①_サイト名                競合②_URL     競合②_サイト名  \\\n",
       "1  https://www.netage.ne.jp/  【公式】NETAGE  https://wifistore.jp/  【公式】WiFiストア   \n",
       "\n",
       "                        競合③_URL     競合③_サイト名                  競合④_URL  \\\n",
       "1  https://www.rental-store.jp/  WiFiレンタル屋さん  https://wimax-broad.jp/   \n",
       "\n",
       "      競合④_サイト名                     競合⑤_URL            競合⑤_サイト名  \\\n",
       "1  Broad WiMAX  https://www.just-size.net/  Just-Size.Networks   \n",
       "\n",
       "                        競合⑥_URL      競合⑥_サイト名      最重要キーワード  \\\n",
       "1  https://shibarinashi-wifi.jp  《公式》縛りなしWiFi  海外 wifi レンタル   \n",
       "\n",
       "                                         上位表示分析結果URL              GAのアカウントID  \\\n",
       "1  https://tact-seo.com/clients/815/sites/915/seo...   t3dwillgate@gmail.com   \n",
       "\n",
       "   GAのビューID  \n",
       "1  52781251  "
      ]
     },
     "execution_count": 126,
     "metadata": {},
     "output_type": "execute_result"
    }
   ],
   "source": [
    "input_df"
   ]
  },
  {
   "cell_type": "code",
   "execution_count": 61,
   "metadata": {},
   "outputs": [],
   "source": [
    "creiant_name = df['対策サイト_サイト名'][1]\n",
    "\n",
    "file_name = f'{creiant_name}様_SEO課題分析調査'"
   ]
  },
  {
   "cell_type": "code",
   "execution_count": 62,
   "metadata": {},
   "outputs": [],
   "source": [
    "# テンプレートを作成\n",
    "DRIVE_ID = '1ma2kClZS0NYY9tipellTbvnAD89FU30v'\n",
    "FILE_ID = '1LNNuszsOHeLc7R8LVMNv3zOLejkCURUt-tyntBk1wgw'\n",
    "\n",
    "new_file_body = {\n",
    "    'name': file_name,  # 新しいファイルのファイル名. 省略も可能\n",
    "    'parents': [DRIVE_ID],  # Copy先のFolder ID. 省略も可能\n",
    "}"
   ]
  },
  {
   "cell_type": "code",
   "execution_count": 63,
   "metadata": {},
   "outputs": [
    {
     "name": "stdout",
     "output_type": "stream",
     "text": [
      "{'kind': 'drive#file', 'id': '1jwfhTvyi66nuFQ-ah8JPeFyhh9y8oU5ziYpSO06eP5k', 'name': 'WiFiレンタルどっとこむ様_SEO課題分析調査', 'mimeType': 'application/vnd.google-apps.spreadsheet'}\n"
     ]
    }
   ],
   "source": [
    "new_file = gs.api.files().copy(\n",
    "    fileId=FILE_ID, body=new_file_body\n",
    ").execute()\n",
    "print(new_file)"
   ]
  },
  {
   "cell_type": "code",
   "execution_count": 77,
   "metadata": {},
   "outputs": [
    {
     "data": {
      "text/plain": [
       "<Spreadsheet 'WiFiレンタルどっとこむ様_SEO課題分析調査' id:1jwfhTvyi66nuFQ-ah8JPeFyhh9y8oU5ziYpSO06eP5k>"
      ]
     },
     "execution_count": 77,
     "metadata": {},
     "output_type": "execute_result"
    }
   ],
   "source": [
    "# 必要な情報を取得する\n",
    "output_id = new_file['id']\n",
    "\n",
    "output_sheets = gs.gc.open_by_key(output_id)\n",
    "output_sheets"
   ]
  },
  {
   "cell_type": "code",
   "execution_count": 71,
   "metadata": {},
   "outputs": [
    {
     "data": {
      "text/html": [
       "<div>\n",
       "<style scoped>\n",
       "    .dataframe tbody tr th:only-of-type {\n",
       "        vertical-align: middle;\n",
       "    }\n",
       "\n",
       "    .dataframe tbody tr th {\n",
       "        vertical-align: top;\n",
       "    }\n",
       "\n",
       "    .dataframe thead th {\n",
       "        text-align: right;\n",
       "    }\n",
       "</style>\n",
       "<table border=\"1\" class=\"dataframe\">\n",
       "  <thead>\n",
       "    <tr style=\"text-align: right;\">\n",
       "      <th></th>\n",
       "      <th></th>\n",
       "      <th>#</th>\n",
       "      <th>基本情報</th>\n",
       "      <th>＠SOL担当者の方へ　👇要入力</th>\n",
       "      <th></th>\n",
       "      <th></th>\n",
       "    </tr>\n",
       "  </thead>\n",
       "  <tbody>\n",
       "    <tr>\n",
       "      <th>1</th>\n",
       "      <td></td>\n",
       "      <td>1</td>\n",
       "      <td>対策サイト_URL</td>\n",
       "      <td></td>\n",
       "      <td>/</td>\n",
       "      <td>/</td>\n",
       "    </tr>\n",
       "    <tr>\n",
       "      <th>2</th>\n",
       "      <td></td>\n",
       "      <td>2</td>\n",
       "      <td>対策サイト_サイト名</td>\n",
       "      <td></td>\n",
       "      <td></td>\n",
       "      <td></td>\n",
       "    </tr>\n",
       "    <tr>\n",
       "      <th>3</th>\n",
       "      <td></td>\n",
       "      <td>※</td>\n",
       "      <td>対策サイト（ドメイン抽出）</td>\n",
       "      <td></td>\n",
       "      <td>/</td>\n",
       "      <td>/</td>\n",
       "    </tr>\n",
       "    <tr>\n",
       "      <th>4</th>\n",
       "      <td></td>\n",
       "      <td>3</td>\n",
       "      <td>競合①_URL</td>\n",
       "      <td></td>\n",
       "      <td>/</td>\n",
       "      <td>/</td>\n",
       "    </tr>\n",
       "    <tr>\n",
       "      <th>5</th>\n",
       "      <td></td>\n",
       "      <td>4</td>\n",
       "      <td>競合①_サイト名</td>\n",
       "      <td></td>\n",
       "      <td></td>\n",
       "      <td></td>\n",
       "    </tr>\n",
       "    <tr>\n",
       "      <th>6</th>\n",
       "      <td></td>\n",
       "      <td>5</td>\n",
       "      <td>競合②_URL</td>\n",
       "      <td></td>\n",
       "      <td>/</td>\n",
       "      <td>/</td>\n",
       "    </tr>\n",
       "    <tr>\n",
       "      <th>7</th>\n",
       "      <td></td>\n",
       "      <td>6</td>\n",
       "      <td>競合②_サイト名</td>\n",
       "      <td></td>\n",
       "      <td></td>\n",
       "      <td></td>\n",
       "    </tr>\n",
       "    <tr>\n",
       "      <th>8</th>\n",
       "      <td></td>\n",
       "      <td>7</td>\n",
       "      <td>競合③_URL</td>\n",
       "      <td></td>\n",
       "      <td>/</td>\n",
       "      <td>/</td>\n",
       "    </tr>\n",
       "    <tr>\n",
       "      <th>9</th>\n",
       "      <td></td>\n",
       "      <td>8</td>\n",
       "      <td>競合③_サイト名</td>\n",
       "      <td></td>\n",
       "      <td></td>\n",
       "      <td></td>\n",
       "    </tr>\n",
       "    <tr>\n",
       "      <th>10</th>\n",
       "      <td></td>\n",
       "      <td>9</td>\n",
       "      <td>競合④_URL</td>\n",
       "      <td></td>\n",
       "      <td>/</td>\n",
       "      <td>/</td>\n",
       "    </tr>\n",
       "    <tr>\n",
       "      <th>11</th>\n",
       "      <td></td>\n",
       "      <td>10</td>\n",
       "      <td>競合④_サイト名</td>\n",
       "      <td></td>\n",
       "      <td></td>\n",
       "      <td></td>\n",
       "    </tr>\n",
       "    <tr>\n",
       "      <th>12</th>\n",
       "      <td></td>\n",
       "      <td>11</td>\n",
       "      <td>競合⑤_URL</td>\n",
       "      <td></td>\n",
       "      <td>/</td>\n",
       "      <td>/</td>\n",
       "    </tr>\n",
       "    <tr>\n",
       "      <th>13</th>\n",
       "      <td></td>\n",
       "      <td>12</td>\n",
       "      <td>競合⑤_サイト名</td>\n",
       "      <td></td>\n",
       "      <td></td>\n",
       "      <td></td>\n",
       "    </tr>\n",
       "    <tr>\n",
       "      <th>14</th>\n",
       "      <td></td>\n",
       "      <td>13</td>\n",
       "      <td>競合⑥_URL</td>\n",
       "      <td></td>\n",
       "      <td>/</td>\n",
       "      <td>/</td>\n",
       "    </tr>\n",
       "    <tr>\n",
       "      <th>15</th>\n",
       "      <td></td>\n",
       "      <td>14</td>\n",
       "      <td>競合⑥_サイト名</td>\n",
       "      <td></td>\n",
       "      <td></td>\n",
       "      <td></td>\n",
       "    </tr>\n",
       "    <tr>\n",
       "      <th>16</th>\n",
       "      <td></td>\n",
       "      <td>15</td>\n",
       "      <td>最重要キーワード</td>\n",
       "      <td></td>\n",
       "      <td></td>\n",
       "      <td></td>\n",
       "    </tr>\n",
       "    <tr>\n",
       "      <th>17</th>\n",
       "      <td></td>\n",
       "      <td>16</td>\n",
       "      <td>上位表示分析結果URL</td>\n",
       "      <td></td>\n",
       "      <td></td>\n",
       "      <td></td>\n",
       "    </tr>\n",
       "    <tr>\n",
       "      <th>18</th>\n",
       "      <td></td>\n",
       "      <td>17</td>\n",
       "      <td>自社及び競合サイトのディレクトリ構造</td>\n",
       "      <td>【※はじめに※】ディレクトリ設定へ記載</td>\n",
       "      <td></td>\n",
       "      <td></td>\n",
       "    </tr>\n",
       "    <tr>\n",
       "      <th>19</th>\n",
       "      <td></td>\n",
       "      <td>18</td>\n",
       "      <td>GAのアカウントID</td>\n",
       "      <td></td>\n",
       "      <td></td>\n",
       "      <td></td>\n",
       "    </tr>\n",
       "    <tr>\n",
       "      <th>20</th>\n",
       "      <td></td>\n",
       "      <td>19</td>\n",
       "      <td>GAのビューID</td>\n",
       "      <td></td>\n",
       "      <td></td>\n",
       "      <td></td>\n",
       "    </tr>\n",
       "    <tr>\n",
       "      <th>21</th>\n",
       "      <td></td>\n",
       "      <td></td>\n",
       "      <td></td>\n",
       "      <td></td>\n",
       "      <td></td>\n",
       "      <td></td>\n",
       "    </tr>\n",
       "    <tr>\n",
       "      <th>22</th>\n",
       "      <td></td>\n",
       "      <td>#</td>\n",
       "      <td>調査ステップ</td>\n",
       "      <td>@業務委託の方へ　👇要対応</td>\n",
       "      <td></td>\n",
       "      <td></td>\n",
       "    </tr>\n",
       "    <tr>\n",
       "      <th>23</th>\n",
       "      <td></td>\n",
       "      <td>1</td>\n",
       "      <td>【※データ出力用※】外部調査</td>\n",
       "      <td>被リンクについてのデータを抽出及び貼付け</td>\n",
       "      <td></td>\n",
       "      <td></td>\n",
       "    </tr>\n",
       "    <tr>\n",
       "      <th>24</th>\n",
       "      <td></td>\n",
       "      <td>2</td>\n",
       "      <td>【※データ出力用※】インデックス調査</td>\n",
       "      <td>インデックス周辺についてのデータを抽出及び貼付け</td>\n",
       "      <td></td>\n",
       "      <td></td>\n",
       "    </tr>\n",
       "    <tr>\n",
       "      <th>25</th>\n",
       "      <td></td>\n",
       "      <td>3</td>\n",
       "      <td>【※データ出力用※】コンテンツ調査</td>\n",
       "      <td>最重要キーワードについてのデータを抽出及び貼付け</td>\n",
       "      <td></td>\n",
       "      <td></td>\n",
       "    </tr>\n",
       "    <tr>\n",
       "      <th>26</th>\n",
       "      <td></td>\n",
       "      <td>4</td>\n",
       "      <td>【※データ出力用※】ディレクトリ別流入調査</td>\n",
       "      <td>自社及び競合のディレクトリ別の流入データを抽出及び貼付け</td>\n",
       "      <td></td>\n",
       "      <td></td>\n",
       "    </tr>\n",
       "    <tr>\n",
       "      <th>27</th>\n",
       "      <td></td>\n",
       "      <td>5</td>\n",
       "      <td>【※データ出力用※】自社ディレクトリ別調査</td>\n",
       "      <td>自社のディレクトリ別についてのデータを抽出及び貼付け</td>\n",
       "      <td></td>\n",
       "      <td></td>\n",
       "    </tr>\n",
       "  </tbody>\n",
       "</table>\n",
       "</div>"
      ],
      "text/plain": [
       "       #                   基本情報               ＠SOL担当者の方へ　👇要入力      \n",
       "1      1              対策サイト_URL                                /  /\n",
       "2      2             対策サイト_サイト名                                    \n",
       "3      ※          対策サイト（ドメイン抽出）                                /  /\n",
       "4      3                競合①_URL                                /  /\n",
       "5      4               競合①_サイト名                                    \n",
       "6      5                競合②_URL                                /  /\n",
       "7      6               競合②_サイト名                                    \n",
       "8      7                競合③_URL                                /  /\n",
       "9      8               競合③_サイト名                                    \n",
       "10     9                競合④_URL                                /  /\n",
       "11    10               競合④_サイト名                                    \n",
       "12    11                競合⑤_URL                                /  /\n",
       "13    12               競合⑤_サイト名                                    \n",
       "14    13                競合⑥_URL                                /  /\n",
       "15    14               競合⑥_サイト名                                    \n",
       "16    15               最重要キーワード                                    \n",
       "17    16            上位表示分析結果URL                                    \n",
       "18    17     自社及び競合サイトのディレクトリ構造           【※はじめに※】ディレクトリ設定へ記載      \n",
       "19    18             GAのアカウントID                                    \n",
       "20    19               GAのビューID                                    \n",
       "21                                                                 \n",
       "22     #                 調査ステップ                 @業務委託の方へ　👇要対応      \n",
       "23     1         【※データ出力用※】外部調査          被リンクについてのデータを抽出及び貼付け      \n",
       "24     2     【※データ出力用※】インデックス調査      インデックス周辺についてのデータを抽出及び貼付け      \n",
       "25     3      【※データ出力用※】コンテンツ調査      最重要キーワードについてのデータを抽出及び貼付け      \n",
       "26     4  【※データ出力用※】ディレクトリ別流入調査  自社及び競合のディレクトリ別の流入データを抽出及び貼付け      \n",
       "27     5  【※データ出力用※】自社ディレクトリ別調査    自社のディレクトリ別についてのデータを抽出及び貼付け      "
      ]
     },
     "execution_count": 71,
     "metadata": {},
     "output_type": "execute_result"
    }
   ],
   "source": [
    "output_sheet = output_sheets.worksheet('【※はじめに確認※】調査概要')\n",
    "output_content = output_sheet.get_values()\n",
    "#シートの中身をデータフレーム化\n",
    "output_df = pd.DataFrame(output_content, columns = output_content[0]).drop(0)\n",
    "output_df"
   ]
  },
  {
   "cell_type": "code",
   "execution_count": 110,
   "metadata": {},
   "outputs": [],
   "source": [
    "# input_dict = input_df[1].to_dict()\n",
    "# input_dict\n",
    "# input_dict={}\n",
    "# for field in output_field:\n",
    "#     val = input_df[field][1]\n",
    "#     input_dict[field] = val\n",
    "input_dict = input_df.iloc[0].to_list()"
   ]
  },
  {
   "cell_type": "code",
   "execution_count": 111,
   "metadata": {},
   "outputs": [
    {
     "data": {
      "text/plain": [
       "['https://www.wifi-rental.com/',\n",
       " 'WiFiレンタルどっとこむ',\n",
       " 'https://www.wifi-rental.com/',\n",
       " 'https://www.netage.ne.jp/',\n",
       " '【公式】NETAGE',\n",
       " 'https://wifistore.jp/',\n",
       " '【公式】WiFiストア',\n",
       " 'https://www.rental-store.jp/',\n",
       " 'WiFiレンタル屋さん',\n",
       " 'https://wimax-broad.jp/',\n",
       " 'Broad WiMAX',\n",
       " 'https://www.just-size.net/',\n",
       " 'Just-Size.Networks',\n",
       " 'https://shibarinashi-wifi.jp',\n",
       " '《公式》縛りなしWiFi',\n",
       " '海外 wifi レンタル',\n",
       " 'https://tact-seo.com/clients/815/sites/915/seo_improvement/rank_factor_analysis/page_analysis?analysis_id=43837',\n",
       " '【※はじめに※】ディレクトリ設定へ記載',\n",
       " ' t3dwillgate@gmail.com',\n",
       " '52781251']"
      ]
     },
     "execution_count": 111,
     "metadata": {},
     "output_type": "execute_result"
    }
   ],
   "source": [
    "input_dict.insert(17,'【※はじめに※】ディレクトリ設定へ記載')\n",
    "input_dict"
   ]
  },
  {
   "cell_type": "code",
   "execution_count": 112,
   "metadata": {},
   "outputs": [],
   "source": [
    "# for field in output_field:\n",
    "#     output_df.loc[output_df['基本情報']==field,'＠SOL担当者の方へ　👇要入力']=input_dict[field]"
   ]
  },
  {
   "cell_type": "code",
   "execution_count": 113,
   "metadata": {},
   "outputs": [],
   "source": [
    "# output_df"
   ]
  },
  {
   "cell_type": "code",
   "execution_count": 114,
   "metadata": {},
   "outputs": [],
   "source": [
    "# gs.update(output_sheets, output_df)"
   ]
  },
  {
   "cell_type": "code",
   "execution_count": 115,
   "metadata": {},
   "outputs": [],
   "source": []
  },
  {
   "cell_type": "code",
   "execution_count": 117,
   "metadata": {},
   "outputs": [
    {
     "data": {
      "text/plain": [
       "{'spreadsheetId': '1jwfhTvyi66nuFQ-ah8JPeFyhh9y8oU5ziYpSO06eP5k',\n",
       " 'updatedRange': \"'【※はじめに確認※】調査概要'!D2:D21\",\n",
       " 'updatedRows': 20,\n",
       " 'updatedColumns': 1,\n",
       " 'updatedCells': 20}"
      ]
     },
     "execution_count": 117,
     "metadata": {},
     "output_type": "execute_result"
    }
   ],
   "source": [
    "ds= output_sheet.range('D2:D21')\n",
    "for i, key in enumerate(input_dict):\n",
    "    ds[i].value = input_dict[i]\n",
    "\n",
    "output_sheet.update_cells(ds)"
   ]
  },
  {
   "cell_type": "code",
   "execution_count": 97,
   "metadata": {},
   "outputs": [
    {
     "data": {
      "text/plain": [
       "[<Cell R2C4 'https://www.wifi-rental.com/'>,\n",
       " <Cell R3C4 'WiFiレンタルどっとこむ'>,\n",
       " <Cell R4C4 'https://www.wifi-rental.com/'>,\n",
       " <Cell R5C4 'https://www.netage.ne.jp/'>,\n",
       " <Cell R6C4 '【公式】NETAGE'>,\n",
       " <Cell R7C4 'https://wifistore.jp/'>,\n",
       " <Cell R8C4 '【公式】WiFiストア'>,\n",
       " <Cell R9C4 'https://www.rental-store.jp/'>,\n",
       " <Cell R10C4 'WiFiレンタル屋さん'>,\n",
       " <Cell R11C4 'https://wimax-broad.jp/'>,\n",
       " <Cell R12C4 'Broad WiMAX'>,\n",
       " <Cell R13C4 'https://www.just-size.net/'>,\n",
       " <Cell R14C4 'Just-Size.Networks'>,\n",
       " <Cell R15C4 'https://shibarinashi-wifi.jp'>,\n",
       " <Cell R16C4 '《公式》縛りなしWiFi'>,\n",
       " <Cell R17C4 '海外 wifi レンタル'>,\n",
       " <Cell R18C4 'https://tact-seo.com/clients/815/sites/915/seo_improvement/rank_factor_analysis/page_analysis?analysis_id=43837'>,\n",
       " <Cell R19C4 ' t3dwillgate@gmail.com'>,\n",
       " <Cell R20C4 '52781251'>,\n",
       " <Cell R21C4 ''>]"
      ]
     },
     "execution_count": 97,
     "metadata": {},
     "output_type": "execute_result"
    }
   ],
   "source": [
    "ds"
   ]
  },
  {
   "attachments": {},
   "cell_type": "markdown",
   "metadata": {},
   "source": [
    "### ●●様_初期企画準備ファイル（テンプレ） 【最終編集 : 2022/01/05】の作成"
   ]
  },
  {
   "cell_type": "code",
   "execution_count": 119,
   "metadata": {},
   "outputs": [
    {
     "name": "stdout",
     "output_type": "stream",
     "text": [
      "{'kind': 'drive#file', 'id': '1Dt6KNrC98EjJ3hUxaKwguWfXvWP32QPspTcHrvUyldY', 'name': 'WiFiレンタルどっとこむ様_初期企画準備ファイル（テンプレ） 【最終編集 : 2022/01/05】', 'mimeType': 'application/vnd.google-apps.spreadsheet'}\n"
     ]
    }
   ],
   "source": [
    "# テンプレートを作成\n",
    "DRIVE_ID = '1ma2kClZS0NYY9tipellTbvnAD89FU30v'\n",
    "FIRST_PREP_FILE_ID = '1t3Vc_MB0NcVD52qgshnv06uU4WTlJzwXqVjOnaXGr2A'\n",
    "first_prep_file_name = f'{creiant_name}様_初期企画準備ファイル（テンプレ） 【最終編集 : 2022/01/05】'\n",
    "\n",
    "first_prep_new_file_body = {\n",
    "    'name': first_prep_file_name,  # 新しいファイルのファイル名. 省略も可能\n",
    "    'parents': [DRIVE_ID],  # Copy先のFolder ID. 省略も可能\n",
    "}\n",
    "\n",
    "first_prep_new_file = gs.api.files().copy(\n",
    "    fileId=FIRST_PREP_FILE_ID, body=first_prep_new_file_body\n",
    ").execute()\n",
    "print(first_prep_new_file)"
   ]
  },
  {
   "cell_type": "code",
   "execution_count": 122,
   "metadata": {},
   "outputs": [],
   "source": [
    "# 必要な情報を取得する\n",
    "first_prep_id = first_prep_new_file['id']\n",
    "\n",
    "first_prep_sheets = gs.gc.open_by_key(first_prep_id)\n",
    "\n",
    "first_prep_sheet = first_prep_sheets.worksheet('【※はじめに確認※】調査概要')\n",
    "first_prep_content = first_prep_sheet.get_values()\n",
    "#シートの中身をデータフレーム化\n",
    "# first_prep_df = pd.DataFrame(first_prep_content, columns = first_prep_content[0]).drop(0)\n",
    "# first_prep_df"
   ]
  },
  {
   "cell_type": "code",
   "execution_count": 128,
   "metadata": {},
   "outputs": [],
   "source": [
    "first_prep_field = ['対策サイト','取引先webサイト','メインキーワード','指定競合サイト×3社以上','初期企画依頼日']"
   ]
  },
  {
   "cell_type": "code",
   "execution_count": 132,
   "metadata": {},
   "outputs": [],
   "source": [
    "tact_url = df['上位表示分析結果URL'][1].split('seo_improvement')[0]"
   ]
  },
  {
   "cell_type": "code",
   "execution_count": 143,
   "metadata": {},
   "outputs": [
    {
     "data": {
      "text/plain": [
       "['https://www.wifi-rental.com/',\n",
       " '株式会社ビジョン（wifi-rental.com）',\n",
       " 'Wifiレンタル',\n",
       " 'https://www.netage.ne.jp/',\n",
       " '2023/2/21',\n",
       " 'https://tact-seo.com/clients/815/sites/915/']"
      ]
     },
     "execution_count": 143,
     "metadata": {},
     "output_type": "execute_result"
    }
   ],
   "source": [
    "first_prep_input = df[first_prep_field].iloc[0].values.tolist()\n",
    "first_prep_input.append(tact_url)\n",
    "first_prep_input"
   ]
  },
  {
   "cell_type": "code",
   "execution_count": 149,
   "metadata": {},
   "outputs": [
    {
     "data": {
      "text/plain": [
       "{'spreadsheetId': '1Dt6KNrC98EjJ3hUxaKwguWfXvWP32QPspTcHrvUyldY',\n",
       " 'updatedRange': \"'【※はじめに確認※】調査概要'!E2:E6\",\n",
       " 'updatedRows': 5,\n",
       " 'updatedColumns': 1,\n",
       " 'updatedCells': 5}"
      ]
     },
     "execution_count": 149,
     "metadata": {},
     "output_type": "execute_result"
    }
   ],
   "source": [
    "ds= first_prep_sheet.range('E2:E6')\n",
    "for i, key in enumerate(first_prep_input[:5]):\n",
    "    ds[i].value = first_prep_input[i]\n",
    "\n",
    "first_prep_sheet.update_cells(ds)"
   ]
  },
  {
   "cell_type": "code",
   "execution_count": 145,
   "metadata": {},
   "outputs": [
    {
     "data": {
      "text/plain": [
       "'2023/2/21'"
      ]
     },
     "execution_count": 145,
     "metadata": {},
     "output_type": "execute_result"
    }
   ],
   "source": [
    "first_prep_input[4]"
   ]
  },
  {
   "attachments": {},
   "cell_type": "markdown",
   "metadata": {},
   "source": [
    "### キーワード調査テンプレ　作成"
   ]
  },
  {
   "cell_type": "markdown",
   "metadata": {},
   "source": []
  },
  {
   "cell_type": "code",
   "execution_count": 150,
   "metadata": {},
   "outputs": [
    {
     "name": "stdout",
     "output_type": "stream",
     "text": [
      "{'kind': 'drive#file', 'id': '1wON_ICjpG9qB7u0k5IrPMm4CkQ4HnkkJocRsX5hqcwQ', 'name': 'WiFiレンタルどっとこむ様_キーワード調査テンプレ', 'mimeType': 'application/vnd.google-apps.spreadsheet'}\n"
     ]
    }
   ],
   "source": [
    "DRIVE_ID = '1ma2kClZS0NYY9tipellTbvnAD89FU30v'\n",
    "KEYWOED_FILE_ID = '1rgt1y0Gh1gvrnZKfxUZGLGS7X_GA8Km-3pfA6ImP3Ic'\n",
    "keyword_file_name = f'{creiant_name}様_キーワード調査テンプレ'\n",
    "\n",
    "keyword_new_file_body = {\n",
    "    'name': keyword_file_name,  # 新しいファイルのファイル名. 省略も可能\n",
    "    'parents': [DRIVE_ID],  # Copy先のFolder ID. 省略も可能\n",
    "}\n",
    "\n",
    "keyword_new_file = gs.api.files().copy(\n",
    "    fileId=KEYWOED_FILE_ID, body=keyword_new_file_body\n",
    ").execute()\n",
    "print(keyword_new_file)\n",
    "\n",
    "# 必要な情報を取得する\n",
    "keyword_id = keyword_new_file['id']\n",
    "\n",
    "keyword_sheets = gs.gc.open_by_key(keyword_id)\n",
    "\n",
    "keyword_sheet = keyword_sheets.worksheet('【※はじめに確認※】調査概要')\n",
    "keyword_content = keyword_sheet.get_values()"
   ]
  },
  {
   "cell_type": "code",
   "execution_count": 151,
   "metadata": {},
   "outputs": [
    {
     "data": {
      "text/plain": [
       "'https://docs.google.com/spreadsheets/d/1Dt6KNrC98EjJ3hUxaKwguWfXvWP32QPspTcHrvUyldY'"
      ]
     },
     "execution_count": 151,
     "metadata": {},
     "output_type": "execute_result"
    }
   ],
   "source": [
    "first_prep_url = f'https://docs.google.com/spreadsheets/d/{first_prep_id}'\n",
    "first_prep_url"
   ]
  },
  {
   "cell_type": "code",
   "execution_count": 153,
   "metadata": {},
   "outputs": [
    {
     "data": {
      "text/plain": [
       "{'spreadsheetId': '1wON_ICjpG9qB7u0k5IrPMm4CkQ4HnkkJocRsX5hqcwQ',\n",
       " 'updatedRange': \"'【※はじめに確認※】調査概要'!D2\",\n",
       " 'updatedRows': 1,\n",
       " 'updatedColumns': 1,\n",
       " 'updatedCells': 1}"
      ]
     },
     "execution_count": 153,
     "metadata": {},
     "output_type": "execute_result"
    }
   ],
   "source": [
    "keyword_sheet.update_acell('D2', first_prep_url)"
   ]
  },
  {
   "attachments": {},
   "cell_type": "markdown",
   "metadata": {},
   "source": [
    "## ●●様_初期企画準備ファイル（テンプレ） 【最終編集 : 2022/01/05】の途中から"
   ]
  },
  {
   "cell_type": "code",
   "execution_count": 154,
   "metadata": {},
   "outputs": [
    {
     "name": "stdout",
     "output_type": "stream",
     "text": [
      "https://docs.google.com/spreadsheets/d/1jwfhTvyi66nuFQ-ah8JPeFyhh9y8oU5ziYpSO06eP5k\n",
      "https://docs.google.com/spreadsheets/d/1wON_ICjpG9qB7u0k5IrPMm4CkQ4HnkkJocRsX5hqcwQ\n"
     ]
    }
   ],
   "source": [
    "seo_url = f'https://docs.google.com/spreadsheets/d/{output_id}'\n",
    "keyword_url = f'https://docs.google.com/spreadsheets/d/{keyword_id}'\n",
    "print(seo_url)\n",
    "print(keyword_url)"
   ]
  },
  {
   "cell_type": "code",
   "execution_count": 156,
   "metadata": {},
   "outputs": [
    {
     "data": {
      "text/plain": [
       "{'spreadsheetId': '1Dt6KNrC98EjJ3hUxaKwguWfXvWP32QPspTcHrvUyldY',\n",
       " 'updatedRange': \"'【※はじめに確認※】調査概要'!H6\",\n",
       " 'updatedRows': 1,\n",
       " 'updatedColumns': 1,\n",
       " 'updatedCells': 1}"
      ]
     },
     "execution_count": 156,
     "metadata": {},
     "output_type": "execute_result"
    }
   ],
   "source": [
    "first_prep_sheet.update_acell('H3', seo_url)\n",
    "first_prep_sheet.update_acell('H4', keyword_url)\n",
    "first_prep_sheet.update_acell('H6', tact_url)"
   ]
  },
  {
   "cell_type": "code",
   "execution_count": null,
   "metadata": {},
   "outputs": [],
   "source": []
  }
 ],
 "metadata": {
  "kernelspec": {
   "display_name": "venv-wg",
   "language": "python",
   "name": "python3"
  },
  "language_info": {
   "codemirror_mode": {
    "name": "ipython",
    "version": 3
   },
   "file_extension": ".py",
   "mimetype": "text/x-python",
   "name": "python",
   "nbconvert_exporter": "python",
   "pygments_lexer": "ipython3",
   "version": "3.10.6"
  },
  "orig_nbformat": 4,
  "vscode": {
   "interpreter": {
    "hash": "6c387462cef8b24bcf2cb3efb5f99e54697de52606751abd95c472325ecd5e48"
   }
  }
 },
 "nbformat": 4,
 "nbformat_minor": 2
}
