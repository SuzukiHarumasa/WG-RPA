{
 "cells": [
  {
   "cell_type": "code",
   "execution_count": 84,
   "metadata": {},
   "outputs": [],
   "source": [
    "import sys\n",
    "import sys\n",
    "import urllib3\n",
    "from bs4 import BeautifulSoup\n",
    "# 検索上位取得\n",
    "from urllib.parse import urlparse\n",
    "import requests\n",
    "\n",
    "\n",
    "sys.path.append('/Users/suzukiharumasaru/apps/WG-RPA/pytools')\n",
    "\n",
    "import pandas as pd\n",
    "from gsheets import GSheets\n",
    "\n",
    "# インスタンスを生成\n",
    "creds = '/Users/suzukiharumasaru/apps/WG-RPA/seacrets/rpa-shokikikaku-a6bba716cf27.json'\n",
    "gs = GSheets(creds)\n",
    "\n",
    "# 必要な情報を取得する\n",
    "input_id = '1hQikhwgt8VSNC6GcfhFhHqQPAfoLygBJrK0cG_Ja3xc'\n",
    "sheets = gs.gc.open_by_key(input_id)\n",
    "\n",
    "sheet = sheets.worksheet('input')\n",
    "content = sheet.get_values()\n",
    "\n",
    "sheet = sheets.worksheet('input')\n",
    "content = sheet.get_values()\n",
    "#シートの中身をデータフレーム化\n",
    "all_input_dict = {\n",
    "  \"日時\": \"2023/02/26\",\n",
    "  \"メールアドレス\": \"suzuki.harumasa@willgate.co.jp\",\n",
    "  \"対策サイト\": \"https://www.wifi-rental.com/\",\n",
    "  \"対策サイト_サイト名\": \"WiFiレンタルどっとこむ\",\n",
    "  \"対策サイト（ドメイン抽出）\": \"https://www.wifi-rental.com/\",\n",
    "  \"取引先webサイト\": \"株式会社ビジョン（wifi-rental.com）\",\n",
    "  \"メインキーワード\": \"Wifiレンタル\",\n",
    "  \"指定競合サイト×3社以上\": \"https://www.netage.ne.jp/\",\n",
    "  \"初期企画依頼日\": \"2023/02/26\",\n",
    "  \"競合①_URL\": \"https://www.netage.ne.jp/\",\n",
    "  \"競合①_サイト名\": \"【公式】NETAGE\",\n",
    "  \"競合②_URL\": \"https://wifistore.jp/\",\n",
    "  \"競合②_サイト名\": \"【公式】WiFiストア\",\n",
    "  \"競合③_URL\": \"https://www.rental-store.jp/\",\n",
    "  \"競合③_サイト名\": \"WiFiレンタル屋さん\",\n",
    "  \"競合④_URL\": \"https://wimax-broad.jp/\",\n",
    "  \"競合④_サイト名\": \"Broad WiMAX\",\n",
    "  \"競合⑤_URL\": \"https://www.just-size.net/\",\n",
    "  \"競合⑤_サイト名\": \"Just-Size.Networks\",\n",
    "  \"競合⑥_URL\": \"https://shibarinashi-wifi.jp\",\n",
    "  \"競合⑥_サイト名\": \"《公式》縛りなしWiFi\",\n",
    "  \"最重要キーワード\": \"海外 wifi レンタル\",\n",
    "  \"上位表示分析結果URL\": \"https://tact-seo.com/clients/815/sites/915/seo_improvement/rank_factor_analysis/page_analysis?analysis_id=43837\",\n",
    "  \"自社及び競合サイトのディレクトリ構造\": \"\",\n",
    "  \"GAのアカウントID\": \" t3dwillgate@gmail.com\",\n",
    "  \"GAのビューID\": \"52781251\",\n",
    "  \"カテゴリ系競合（最大8つまで）※除外するディレクトリがある場合には『,』を記載してください\": \"https://www.wifi-rental.com/,media\\nhttps://www.netage.ne.jp/,column\\nhttps://wifistore.jp/,column\\nhttps://www.rental-store.jp/\\nhttps://wifi-rent.jp/\",\n",
    "  \"記事系競合（最大8つまで）\": \"https://www.wifi-rental.com/media/\\nhttps://wimax-broad.jp/column/\\nhttps://www.just-size.net/internet/\\nhttps://shibarinashi-wifi.jp/media/\\nhttps://www.mobistar.jp/\\nhttps://wimax比較.com/\"\n",
    "}\n",
    "\n",
    "# 必要なファイルの作成\n",
    "\n",
    "creiant_name = all_input_dict['対策サイト_サイト名']\n",
    "# SEO課題分析調査\n",
    "file_name = f'{creiant_name}様_SEO課題分析調査'\n",
    "\n",
    "first_prep_file_name = f'{creiant_name}様_初期企画準備ファイル（テンプレ） 【最終編集 : 2022/01/05】'\n",
    "\n",
    "keyword_file_name = f'{creiant_name}様_キーワード調査テンプレ'\n",
    "\n",
    "# テンプレートを作成\n",
    "DRIVE_ID = '1ma2kClZS0NYY9tipellTbvnAD89FU30v'\n",
    "FILE_ID = '1LNNuszsOHeLc7R8LVMNv3zOLejkCURUt-tyntBk1wgw'\n",
    "FIRST_PREP_FILE_ID = '1t3Vc_MB0NcVD52qgshnv06uU4WTlJzwXqVjOnaXGr2A'\n",
    "KEYWOED_FILE_ID = '1rgt1y0Gh1gvrnZKfxUZGLGS7X_GA8Km-3pfA6ImP3Ic'\n",
    "\n",
    "new_file_body = {\n",
    "    'name': file_name,  # 新しいファイルのファイル名. 省略も可能\n",
    "    'parents': [DRIVE_ID],  # Copy先のFolder ID. 省略も可能\n",
    "}\n",
    "\n",
    "first_prep_new_file_body = {\n",
    "    'name': first_prep_file_name,  # 新しいファイルのファイル名. 省略も可能\n",
    "    'parents': [DRIVE_ID],  # Copy先のFolder ID. 省略も可能\n",
    "}\n",
    "\n",
    "keyword_new_file_body = {\n",
    "    'name': keyword_file_name,  # 新しいファイルのファイル名. 省略も可能\n",
    "    'parents': [DRIVE_ID],  # Copy先のFolder ID. 省略も可能\n",
    "}\n",
    "\n",
    "new_file = gs.api.files().copy(\n",
    "    fileId=FILE_ID, body=new_file_body\n",
    ").execute()\n",
    "\n",
    "first_prep_new_file = gs.api.files().copy(\n",
    "    fileId=FIRST_PREP_FILE_ID, body=first_prep_new_file_body\n",
    ").execute()\n",
    "\n",
    "keyword_new_file = gs.api.files().copy(\n",
    "    fileId=KEYWOED_FILE_ID, body=keyword_new_file_body\n",
    ").execute()\n"
   ]
  },
  {
   "cell_type": "code",
   "execution_count": 85,
   "metadata": {},
   "outputs": [],
   "source": [
    "all_input_dict = {\n",
    "  \"日時\": \"2023/02/26\",\n",
    "  \"メールアドレス\": \"suzuki.harumasa@willgate.co.jp\",\n",
    "  \"対策サイト\": \"https://www.wifi-rental.com/\",\n",
    "  \"対策サイト_サイト名\": \"WiFiレンタルどっとこむ\",\n",
    "  \"対策サイト（ドメイン抽出）\": \"https://www.wifi-rental.com/\",\n",
    "  \"取引先webサイト\": \"株式会社ビジョン（wifi-rental.com）\",\n",
    "  \"メインキーワード\": \"Wifiレンタル\",\n",
    "  \"指定競合サイト×3社以上\": \"https://www.netage.ne.jp/\",\n",
    "  \"初期企画依頼日\": \"2023/02/26\",\n",
    "  \"競合①_URL\": \"https://www.netage.ne.jp/\",\n",
    "  \"競合①_サイト名\": \"【公式】NETAGE\",\n",
    "  \"競合②_URL\": \"https://wifistore.jp/\",\n",
    "  \"競合②_サイト名\": \"【公式】WiFiストア\",\n",
    "  \"競合③_URL\": \"https://www.rental-store.jp/\",\n",
    "  \"競合③_サイト名\": \"WiFiレンタル屋さん\",\n",
    "  \"競合④_URL\": \"https://wimax-broad.jp/\",\n",
    "  \"競合④_サイト名\": \"Broad WiMAX\",\n",
    "  \"競合⑤_URL\": \"https://www.just-size.net/\",\n",
    "  \"競合⑤_サイト名\": \"Just-Size.Networks\",\n",
    "  \"競合⑥_URL\": \"https://shibarinashi-wifi.jp\",\n",
    "  \"競合⑥_サイト名\": \"《公式》縛りなしWiFi\",\n",
    "  \"最重要キーワード\": \"海外 wifi レンタル\",\n",
    "  \"上位表示分析結果URL\": \"https://tact-seo.com/clients/815/sites/915/seo_improvement/rank_factor_analysis/page_analysis?analysis_id=43837\",\n",
    "  \"自社及び競合サイトのディレクトリ構造\": \"\",\n",
    "  \"GAのアカウントID\": \"t3dwillgate@gmail.com\",\n",
    "  \"GAのビューID\": \"52781251\",\n",
    "  \"カテゴリ系競合（最大8つまで）※除外するディレクトリがある場合には『,』を記載してください\": \"https://www.wifi-rental.com/,media\\nhttps://www.netage.ne.jp/,column\\nhttps://wifistore.jp/,column\\nhttps://www.rental-store.jp/\\nhttps://wifi-rent.jp/\",\n",
    "  \"記事系競合（最大8つまで）\": \"https://www.wifi-rental.com/media/\\nhttps://wimax-broad.jp/column/\\nhttps://www.just-size.net/internet/\\nhttps://shibarinashi-wifi.jp/media/\\nhttps://www.mobistar.jp/\\nhttps://wimax比較.com/\"\n",
    "}"
   ]
  },
  {
   "cell_type": "code",
   "execution_count": 86,
   "metadata": {},
   "outputs": [
    {
     "data": {
      "text/plain": [
       "{'spreadsheetId': '1C3qZF1Pmb_cxgNvTODzUPwVh3ZLYlpFS9KLR0TEtZjg',\n",
       " 'updatedRange': \"'【※はじめに確認※】調査概要'!D20:D21\",\n",
       " 'updatedRows': 2,\n",
       " 'updatedColumns': 1,\n",
       " 'updatedCells': 2}"
      ]
     },
     "execution_count": 86,
     "metadata": {},
     "output_type": "execute_result"
    }
   ],
   "source": [
    "# SEO課題分析調査\n",
    "output_id = new_file['id']\n",
    "\n",
    "output_sheets = gs.gc.open_by_key(output_id)\n",
    "\n",
    "seo_field1 = [\n",
    "    \"対策サイト\",\n",
    "\"対策サイト_サイト名\",\n",
    "\"対策サイト（ドメイン抽出）\",\n",
    "\"競合①_URL\",\n",
    "\"競合①_サイト名\",\n",
    "\"競合②_URL\",\n",
    "\"競合②_サイト名\",\n",
    "\"競合③_URL\",\n",
    "\"競合③_サイト名\",\n",
    "\"競合④_URL\",\n",
    "\"競合④_サイト名\",\n",
    "\"競合⑤_URL\",\n",
    "\"競合⑤_サイト名\",\n",
    "\"競合⑥_URL\",\n",
    "\"競合⑥_サイト名\",\n",
    "\"最重要キーワード\",\n",
    "\"上位表示分析結果URL\",\n",
    "]\n",
    "\n",
    "seo_field2 = [\n",
    "\"GAのアカウントID\",\n",
    "\"GAのビューID\"\n",
    "]\n",
    "\n",
    "def to_input_dict(fields):\n",
    "    input_dict = {}\n",
    "    for field in fields:\n",
    "        input_dict[field] = all_input_dict[field]\n",
    "    \n",
    "    return input_dict\n",
    "\n",
    "\n",
    "input_dict1 = to_input_dict(seo_field1)\n",
    "input_dict2 = to_input_dict(seo_field2)\n",
    "\n",
    "output_sheet = output_sheets.worksheet('【※はじめに確認※】調査概要')\n",
    "ds= output_sheet.range('D2:D18')\n",
    "for i, item in enumerate(input_dict1.items()):\n",
    "    ds[i].value = item[1]\n",
    "\n",
    "output_sheet.update_cells(ds)\n",
    "\n",
    "ds= output_sheet.range('D20:D21')\n",
    "for i, item in enumerate(input_dict2.items()):\n",
    "    ds[i].value = item[1]\n",
    "\n",
    "output_sheet.update_cells(ds)"
   ]
  },
  {
   "cell_type": "code",
   "execution_count": 94,
   "metadata": {},
   "outputs": [
    {
     "data": {
      "text/plain": [
       "{'対策サイト': 'https://www.wifi-rental.com/',\n",
       " '取引先webサイト': '株式会社ビジョン（wifi-rental.com）',\n",
       " 'メインキーワード': 'Wifiレンタル',\n",
       " '指定競合サイト×3社以上': 'https://www.netage.ne.jp/',\n",
       " '初期企画依頼日': '2023/02/26'}"
      ]
     },
     "execution_count": 94,
     "metadata": {},
     "output_type": "execute_result"
    }
   ],
   "source": [
    "# 初期企画準備ファイル（テンプレ）\n",
    "first_prep_id = first_prep_new_file['id']\n",
    "\n",
    "first_prep_sheets = gs.gc.open_by_key(first_prep_id)\n",
    "\n",
    "first_prep_sheet = first_prep_sheets.worksheet('【※はじめに確認※】調査概要')\n",
    "first_prep_content = first_prep_sheet.get_values()\n",
    "first_prep_field = ['対策サイト','取引先webサイト','メインキーワード','指定競合サイト×3社以上','初期企画依頼日']\n",
    "tact_url = all_input_dict['上位表示分析結果URL'].split('seo_improvement')[0]\n",
    "\n",
    "first_prep_input = to_input_dict(first_prep_field)\n",
    "first_prep_input\n"
   ]
  },
  {
   "cell_type": "code",
   "execution_count": 93,
   "metadata": {},
   "outputs": [
    {
     "data": {
      "text/plain": [
       "'https://tact-seo.com/clients/815/sites/915/'"
      ]
     },
     "execution_count": 93,
     "metadata": {},
     "output_type": "execute_result"
    }
   ],
   "source": [
    "all_input_dict['上位表示分析結果URL'].split('seo_improvement')[0]"
   ]
  },
  {
   "cell_type": "code",
   "execution_count": 101,
   "metadata": {},
   "outputs": [],
   "source": [
    "def update_sheet(range, sheet, input_dict):\n",
    "    ds= sheet.range(range)\n",
    "\n",
    "    for i, item in enumerate(input_dict.items()):\n",
    "        ds[i].value = item[1]\n",
    "\n",
    "    sheet.update_cells(ds)\n",
    "\n",
    "update_sheet('E2:E6',first_prep_sheet,first_prep_input)"
   ]
  },
  {
   "cell_type": "code",
   "execution_count": 96,
   "metadata": {},
   "outputs": [
    {
     "data": {
      "text/plain": [
       "{'spreadsheetId': '1Q9uBwIAhuc84CJeGYTSpBTLm3GPGVgmEdoKPKmJLD9E',\n",
       " 'updatedRange': \"'【※はじめに確認※】調査概要'!D2\",\n",
       " 'updatedRows': 1,\n",
       " 'updatedColumns': 1,\n",
       " 'updatedCells': 1}"
      ]
     },
     "execution_count": 96,
     "metadata": {},
     "output_type": "execute_result"
    }
   ],
   "source": [
    "# キーワード調査テンプレ\n",
    "keyword_id = keyword_new_file['id']\n",
    "\n",
    "keyword_sheets = gs.gc.open_by_key(keyword_id)\n",
    "\n",
    "keyword_sheet = keyword_sheets.worksheet('【※はじめに確認※】調査概要')\n",
    "keyword_content = keyword_sheet.get_values()\n",
    "first_prep_url = f'https://docs.google.com/spreadsheets/d/{first_prep_id}'\n",
    "\n",
    "keyword_sheet.update_acell('D2', first_prep_url)"
   ]
  },
  {
   "cell_type": "code",
   "execution_count": 97,
   "metadata": {},
   "outputs": [
    {
     "data": {
      "text/plain": [
       "{'spreadsheetId': '1RIWqaUVH7FoJbmTCGLXdI223vKwA3gC1yPGqqnCFT8k',\n",
       " 'updatedRange': \"'【※はじめに確認※】調査概要'!H6\",\n",
       " 'updatedRows': 1,\n",
       " 'updatedColumns': 1,\n",
       " 'updatedCells': 1}"
      ]
     },
     "execution_count": 97,
     "metadata": {},
     "output_type": "execute_result"
    }
   ],
   "source": [
    "# 初期企画準備ファイル（テンプレ） 途中から\n",
    "seo_url = f'https://docs.google.com/spreadsheets/d/{output_id}'\n",
    "keyword_url = f'https://docs.google.com/spreadsheets/d/{keyword_id}'\n",
    "first_prep_sheet.update_acell('H3', seo_url)\n",
    "first_prep_sheet.update_acell('H4', keyword_url)\n",
    "first_prep_sheet.update_acell('H6', tact_url)"
   ]
  },
  {
   "cell_type": "code",
   "execution_count": 108,
   "metadata": {},
   "outputs": [
    {
     "data": {
      "text/plain": [
       "['https://www.wifi-rental.com/,media',\n",
       " 'https://www.netage.ne.jp/,column',\n",
       " 'https://wifistore.jp/,column',\n",
       " 'https://www.rental-store.jp/',\n",
       " 'https://wifi-rent.jp/']"
      ]
     },
     "execution_count": 108,
     "metadata": {},
     "output_type": "execute_result"
    }
   ],
   "source": [
    "# service_comps = to_input_dict([\"カテゴリ系競合（最大8つまで）※除外するディレクトリがある場合には『,』を記載してください\"])\n",
    "# article_comps = to_input_dict([\"記事系競合（最大8つまで）\"])\n",
    "# service_comps = df[\"カテゴリ系競合（最大8つまで）※除外するディレクトリがある場合には『,』を記載してください\"][1].splitlines()\n",
    "# article_comps = df[\"記事系競合（最大8つまで）\"][1].splitlines()\n",
    "article_comps = []\n",
    "article_comps= all_input_dict[\"記事系競合（最大8つまで）\"].splitlines()\n",
    "\n",
    "service_comps = []\n",
    "service_comps= all_input_dict[\"カテゴリ系競合（最大8つまで）※除外するディレクトリがある場合には『,』を記載してください\"].splitlines()\n",
    "service_comps\n"
   ]
  },
  {
   "cell_type": "code",
   "execution_count": 109,
   "metadata": {},
   "outputs": [],
   "source": [
    "dicts={}\n",
    "http = urllib3.PoolManager()\n",
    "for i, comp in enumerate(service_comps):\n",
    "    key = service_comps[i].split(\",\")[0]\n",
    "    response = http.request('get', key)\n",
    "    soup = BeautifulSoup(response.data, 'html.parser')\n",
    "    title = soup.find('title').text\n",
    "    try:\n",
    "        val = service_comps[i].split(\",\")[1]\n",
    "    except:\n",
    "        val = ''\n",
    "    dicts[key] = [val,title]"
   ]
  },
  {
   "cell_type": "code",
   "execution_count": 110,
   "metadata": {},
   "outputs": [
    {
     "data": {
      "text/plain": [
       "{'spreadsheetId': '1RIWqaUVH7FoJbmTCGLXdI223vKwA3gC1yPGqqnCFT8k',\n",
       " 'updatedRange': \"'【#16】競合キーワード抽出「初期設定」'!C11:C18\",\n",
       " 'updatedRows': 8,\n",
       " 'updatedColumns': 1,\n",
       " 'updatedCells': 8}"
      ]
     },
     "execution_count": 110,
     "metadata": {},
     "output_type": "execute_result"
    }
   ],
   "source": [
    "first_prep_sheet=first_prep_sheets.worksheet('【#16】競合キーワード抽出「初期設定」')\n",
    "ds= first_prep_sheet.range('D11:D18')\n",
    "for i,items in enumerate(dicts.items()):\n",
    "    ds[i].value = items[0]\n",
    "\n",
    "first_prep_sheet.update_cells(ds)\n",
    "\n",
    "ds= first_prep_sheet.range('E11:E18')\n",
    "for i,items in enumerate(dicts.items()):\n",
    "    ds[i].value = items[1][0]\n",
    "first_prep_sheet.update_cells(ds)\n",
    "\n",
    "ds= first_prep_sheet.range('C11:C18')\n",
    "for i,items in enumerate(dicts.items()):\n",
    "    ds[i].value = items[1][1]\n",
    "\n",
    "first_prep_sheet.update_cells(ds)"
   ]
  },
  {
   "cell_type": "code",
   "execution_count": 111,
   "metadata": {},
   "outputs": [
    {
     "data": {
      "text/plain": [
       "{'spreadsheetId': '1RIWqaUVH7FoJbmTCGLXdI223vKwA3gC1yPGqqnCFT8k',\n",
       " 'updatedRange': \"'【#16】競合キーワード抽出「初期設定」'!I11:I18\",\n",
       " 'updatedRows': 8,\n",
       " 'updatedColumns': 1,\n",
       " 'updatedCells': 8}"
      ]
     },
     "execution_count": 111,
     "metadata": {},
     "output_type": "execute_result"
    }
   ],
   "source": [
    "article_dicts={}\n",
    "http = urllib3.PoolManager()\n",
    "for comp in article_comps:\n",
    "    key = comp\n",
    "    response = http.request('get', key)\n",
    "    soup = BeautifulSoup(response.data, 'html.parser')\n",
    "    title = soup.find('title').text\n",
    "    \n",
    "    article_dicts[key] = title\n",
    "\n",
    "first_prep_sheet=first_prep_sheets.worksheet('【#16】競合キーワード抽出「初期設定」')\n",
    "ds= first_prep_sheet.range('J11:J18')\n",
    "for i,items in enumerate(article_dicts.items()):\n",
    "    ds[i].value = items[0]\n",
    "\n",
    "first_prep_sheet.update_cells(ds)\n",
    "\n",
    "ds= first_prep_sheet.range('I11:I18')\n",
    "for i,items in enumerate(article_dicts.items()):\n",
    "    ds[i].value = items[1]\n",
    "\n",
    "first_prep_sheet.update_cells(ds)"
   ]
  },
  {
   "cell_type": "code",
   "execution_count": 113,
   "metadata": {},
   "outputs": [],
   "source": [
    "search_word = all_input_dict['メインキーワード']"
   ]
  },
  {
   "cell_type": "code",
   "execution_count": 114,
   "metadata": {},
   "outputs": [
    {
     "name": "stdout",
     "output_type": "stream",
     "text": [
      "【検索ワード】Wifiレンタル\n"
     ]
    }
   ],
   "source": [
    "pages_num = 25 + 1\n",
    "\n",
    "print(f'【検索ワード】{search_word}')\n",
    "\n",
    "# Googleから検索結果ページを取得する\n",
    "url = f'https://www.google.co.jp/search?hl=ja&num={pages_num}&q={search_word}'\n",
    "request = requests.get(url)\n",
    "\n",
    "# Googleのページ解析を行う\n",
    "soup = BeautifulSoup(request.text, \"html.parser\")\n",
    "search_site_list = soup.select('div.kCrYT > a')\n",
    "\n",
    "url_list=[]\n",
    "\n",
    "# ページ解析と結果の出力\n",
    "for rank, site in zip(range(1, pages_num), search_site_list):\n",
    "    try:\n",
    "        site_title = site.select('h3.zBAuLc')[0].text\n",
    "    except IndexError:\n",
    "        site_title = site.select('img')[0]['alt']\n",
    "    site_url = site['href'].replace('/url?q=', '').split('&sa=U')[0]\n",
    "    url_list.append(site_url)\n",
    "\n",
    "domain_list = []\n",
    "my_site = df['対策サイト'][1]\n",
    "\n",
    "for url in url_list:\n",
    "    domain = '{uri.scheme}://{uri.netloc}/'.format(uri=urlparse(url))\n",
    "    domain_list.append(domain)\n",
    "\n",
    "domain_list = list(filter(lambda x: x != my_site, domain_list))\n",
    "\n",
    "if len(domain_list) != 20:\n",
    "    domain_list = list(set(domain_list))\n",
    "    domain_list=domain_list[:20]"
   ]
  },
  {
   "cell_type": "code",
   "execution_count": 115,
   "metadata": {},
   "outputs": [
    {
     "data": {
      "text/plain": [
       "{'spreadsheetId': '1RIWqaUVH7FoJbmTCGLXdI223vKwA3gC1yPGqqnCFT8k',\n",
       " 'updatedRange': \"'【#11~12】競合調査2.0'!D43:D62\",\n",
       " 'updatedRows': 20,\n",
       " 'updatedColumns': 1,\n",
       " 'updatedCells': 20}"
      ]
     },
     "execution_count": 115,
     "metadata": {},
     "output_type": "execute_result"
    }
   ],
   "source": [
    "first_prep_sheet=first_prep_sheets.worksheet('【#11~12】競合調査2.0')\n",
    "ds= first_prep_sheet.range('D43:D62')\n",
    "for i, key in enumerate(domain_list):\n",
    "    ds[i].value = domain_list[i]\n",
    "\n",
    "first_prep_sheet.update_cells(ds)"
   ]
  }
 ],
 "metadata": {
  "kernelspec": {
   "display_name": "venv-wg",
   "language": "python",
   "name": "python3"
  },
  "language_info": {
   "codemirror_mode": {
    "name": "ipython",
    "version": 3
   },
   "file_extension": ".py",
   "mimetype": "text/x-python",
   "name": "python",
   "nbconvert_exporter": "python",
   "pygments_lexer": "ipython3",
   "version": "3.10.6"
  },
  "orig_nbformat": 4,
  "vscode": {
   "interpreter": {
    "hash": "6c387462cef8b24bcf2cb3efb5f99e54697de52606751abd95c472325ecd5e48"
   }
  }
 },
 "nbformat": 4,
 "nbformat_minor": 2
}
