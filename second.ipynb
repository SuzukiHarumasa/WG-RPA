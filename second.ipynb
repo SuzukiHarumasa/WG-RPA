{
 "cells": [
  {
   "cell_type": "code",
   "execution_count": 1,
   "metadata": {},
   "outputs": [],
   "source": [
    "import sys\n",
    "\n",
    "sys.path.append('/Users/suzukiharumasaru/apps/WG-RPA/pytools')\n",
    "\n",
    "import pandas as pd\n",
    "from gsheets import GSheets\n"
   ]
  },
  {
   "cell_type": "code",
   "execution_count": 2,
   "metadata": {},
   "outputs": [],
   "source": [
    "# インスタンスを生成\n",
    "creds = '/Users/suzukiharumasaru/apps/WG-RPA/seacrets/rpa-shokikikaku-a6bba716cf27.json'\n",
    "gs = GSheets(creds)\n"
   ]
  },
  {
   "cell_type": "code",
   "execution_count": 3,
   "metadata": {},
   "outputs": [],
   "source": [
    "# 必要な情報を取得する\n",
    "input_id = '1hQikhwgt8VSNC6GcfhFhHqQPAfoLygBJrK0cG_Ja3xc'\n",
    "first_prep_id = '1Dt6KNrC98EjJ3hUxaKwguWfXvWP32QPspTcHrvUyldY'\n",
    "\n",
    "input_sheets = gs.gc.open_by_key(input_id)\n",
    "first_prep_sheets = gs.gc.open_by_key(first_prep_id)\n"
   ]
  },
  {
   "cell_type": "code",
   "execution_count": 4,
   "metadata": {},
   "outputs": [],
   "source": [
    "input_sheet = input_sheets.worksheet('input')\n",
    "content = input_sheet.get_values()\n",
    "#シートの中身をデータフレーム化\n",
    "input_df = pd.DataFrame(content, columns = content[0]).drop(0)\n",
    "search_word = input_df['メインキーワード'][1]"
   ]
  },
  {
   "cell_type": "code",
   "execution_count": 5,
   "metadata": {},
   "outputs": [
    {
     "name": "stdout",
     "output_type": "stream",
     "text": [
      "【検索ワード】Wifiレンタル\n",
      "1位: 【公式】WiFiレンタルどっとこむ｜WiFiレンタル日本国内専用: https://www.wifi-rental.com/\n",
      "2位: 国内 Wi-Fiレンタル人気ランキング - 価格.com: https://kakaku.com/mobile_data/world-wifi/wifi-rental/company/\n",
      "3位: 【WiFiレンタル屋さん】 日本国内用WiFiルーターレンタル店: https://www.rental-store.jp/\n",
      "4位: 【公式】海外でWiFiレンタルを使うなら！WiFiはグローバルWiFi: https://townwifi.com/\n",
      "5位: 【楽天市場】国内用モバイルWi-Fiルーターが1日からレンタル可能！: https://www.rakuten.co.jp/wifi-rental/\n",
      "6位: wifi レンタル 日本国内 wifi ならNETAGEのレンタル: https://www.netage.ne.jp/wifi-rental/\n",
      "7位: 【公式】NETAGE 日本国内 WiFi レンタル 出張・旅行・帰国などに ...: https://www.netage.ne.jp/\n",
      "8位: 海外WiFiレンタル｜フォートラベル GLOBAL WiFi: https://wifi.4travel.jp/\n",
      "9位: 【公式】海外行くなら！イモトのWiFi｜海外WiFiレンタル: https://www.imotonowifi.jp/\n",
      "10位: 【公式】海外WiFiレンタルならワイホー(Wi-Ho!) | 定額制海外WiFi ...: https://www.wi-ho.net/\n",
      "11位: データ量無制限の海外用WiFiレンタルサービス - JAL ABC: https://www.mobile.jalabc.com/wifi.html\n",
      "12位: 【公式】海外WiFiならWiFiBOX｜非接触型海外WiFiレンタル: https://wifibox.telecomsquare.co.jp/\n",
      "13位: WiFiレンタルJAPAN | 翌日到着 レンタル国内WiFiルーター: https://rentalwifi.jp/\n",
      "14位: 国内用wifiレンタル 縁人 | Wi-Fiレンタルサービス |: https://wifi-rent.jp/\n",
      "15位: 【2023年2月】Wi-Fiレンタルの人気おすすめランキング12選【徹底 ...: https://my-best.com/10685\n",
      "16位: モバイルWIFIレンタル 国内ポケットWIFIはみんなのWi-Fi【公式】: https://www.min-wifi.com/\n",
      "17位: 日本国内用のWiFiレンタルなら【WiFiレンタル本舗】: https://wifi-honpo.com/\n",
      "18位: 国内専門ポケットWiFiレンタル 【WiFiレンタルならカシモバ ...: https://www.kashimob.com/\n",
      "19位: WiFiレンタル便 - Yahoo!ショッピング: https://store.shopping.yahoo.co.jp/rental-wifi/\n",
      "20位: Try WiMAX ルーターを無料お試し  UQ WiMAX（wifi ... - UQ mobile: https://www.uqwimax.jp/wimax/beginner/trywimax/\n",
      "21位: WiFi東京レンタルショップ - 国内用の大容量PocketWi-Fi格安 ...: https://www.wifi-tokyo-rentalshop.com/\n",
      "22位: 国内用WiFiレンタル専門店【WiFiレンタル便】 / TOPページ: http://www.rental-wifi.net/\n",
      "23位: WiFiレンタルどっとこむの春キャンペーン割引料金情報: https://www.mobistar.jp/wifi-rental.htm\n",
      "24位: WiFiレンタル屋さんの法人レンタルサービス: https://biz.wifi-rental-store.jp/\n",
      "25位: 【楽天市場】WiFiレンタル便-RTMモバイル店-初めての方へ: https://www.rakuten.ne.jp/gold/rtm-select/wifi-rental/sp/first.html\n"
     ]
    }
   ],
   "source": [
    "# 検索上位取得\n",
    "\n",
    "import requests\n",
    "from bs4 import BeautifulSoup\n",
    "\n",
    "# 上位から何件までのサイトを抽出するか指定する\n",
    "pages_num = 25 + 1\n",
    "\n",
    "print(f'【検索ワード】{search_word}')\n",
    "\n",
    "# Googleから検索結果ページを取得する\n",
    "url = f'https://www.google.co.jp/search?hl=ja&num={pages_num}&q={search_word}'\n",
    "request = requests.get(url)\n",
    "\n",
    "# Googleのページ解析を行う\n",
    "soup = BeautifulSoup(request.text, \"html.parser\")\n",
    "search_site_list = soup.select('div.kCrYT > a')\n",
    "\n",
    "url_list=[]\n",
    "\n",
    "# ページ解析と結果の出力\n",
    "for rank, site in zip(range(1, pages_num), search_site_list):\n",
    "    try:\n",
    "        site_title = site.select('h3.zBAuLc')[0].text\n",
    "    except IndexError:\n",
    "        site_title = site.select('img')[0]['alt']\n",
    "    site_url = site['href'].replace('/url?q=', '').split('&sa=U')[0]\n",
    "    url_list.append(site_url)\n",
    "\n",
    "    # 結果を出力する\n",
    "    print(str(rank) + \"位: \" + site_title + \": \" + site_url)"
   ]
  },
  {
   "cell_type": "code",
   "execution_count": 6,
   "metadata": {},
   "outputs": [
    {
     "name": "stdout",
     "output_type": "stream",
     "text": [
      "https://www.shop.post.japanpost.jp/\n"
     ]
    }
   ],
   "source": [
    "from urllib.parse import urlparse\n",
    " \n",
    "# 解析対象URL \n",
    "access_url = 'https://www.shop.post.japanpost.jp/shop/r/r910219/'\n",
    "# フォーマットする \n",
    "url = '{uri.scheme}://{uri.netloc}/'.format(uri=urlparse(access_url))\n",
    "print(url) "
   ]
  },
  {
   "cell_type": "code",
   "execution_count": 7,
   "metadata": {},
   "outputs": [
    {
     "data": {
      "text/plain": [
       "['https://www.wi-ho.net/',\n",
       " 'https://townwifi.com/',\n",
       " 'https://www.kashimob.com/',\n",
       " 'https://www.imotonowifi.jp/',\n",
       " 'https://store.shopping.yahoo.co.jp/',\n",
       " 'https://wifi.4travel.jp/',\n",
       " 'https://wifibox.telecomsquare.co.jp/',\n",
       " 'https://www.rakuten.co.jp/',\n",
       " 'https://www.mobile.jalabc.com/',\n",
       " 'https://wifi-rent.jp/',\n",
       " 'https://www.min-wifi.com/',\n",
       " 'https://kakaku.com/',\n",
       " 'https://www.netage.ne.jp/',\n",
       " 'https://www.rakuten.ne.jp/',\n",
       " 'https://www.rental-store.jp/',\n",
       " 'http://www.rental-wifi.net/',\n",
       " 'https://biz.wifi-rental-store.jp/',\n",
       " 'https://my-best.com/',\n",
       " 'https://www.uqwimax.jp/',\n",
       " 'https://wifi-honpo.com/']"
      ]
     },
     "execution_count": 7,
     "metadata": {},
     "output_type": "execute_result"
    }
   ],
   "source": [
    "domain_list = []\n",
    "my_site = input_df['対策サイト'][1]\n",
    "\n",
    "for url in url_list:\n",
    "    domain = '{uri.scheme}://{uri.netloc}/'.format(uri=urlparse(url))\n",
    "    domain_list.append(domain)\n",
    "\n",
    "domain_list = list(filter(lambda x: x != my_site, domain_list))\n",
    "\n",
    "if len(domain_list) != 20:\n",
    "    domain_list = list(set(domain_list))\n",
    "    domain_list=domain_list[:20]\n",
    "\n",
    "domain_list\n"
   ]
  },
  {
   "cell_type": "code",
   "execution_count": 8,
   "metadata": {},
   "outputs": [
    {
     "data": {
      "text/plain": [
       "['https://www.wi-ho.net/',\n",
       " 'https://townwifi.com/',\n",
       " 'https://www.kashimob.com/',\n",
       " 'https://www.imotonowifi.jp/',\n",
       " 'https://store.shopping.yahoo.co.jp/',\n",
       " 'https://wifi.4travel.jp/',\n",
       " 'https://wifibox.telecomsquare.co.jp/',\n",
       " 'https://www.rakuten.co.jp/',\n",
       " 'https://www.mobile.jalabc.com/',\n",
       " 'https://wifi-rent.jp/',\n",
       " 'https://www.min-wifi.com/',\n",
       " 'https://kakaku.com/',\n",
       " 'https://www.netage.ne.jp/',\n",
       " 'https://www.rakuten.ne.jp/',\n",
       " 'https://www.rental-store.jp/',\n",
       " 'http://www.rental-wifi.net/',\n",
       " 'https://biz.wifi-rental-store.jp/',\n",
       " 'https://my-best.com/',\n",
       " 'https://www.uqwimax.jp/',\n",
       " 'https://wifi-honpo.com/']"
      ]
     },
     "execution_count": 8,
     "metadata": {},
     "output_type": "execute_result"
    }
   ],
   "source": [
    "domain_list"
   ]
  },
  {
   "cell_type": "code",
   "execution_count": 51,
   "metadata": {},
   "outputs": [
    {
     "data": {
      "text/plain": [
       "{'spreadsheetId': '1Dt6KNrC98EjJ3hUxaKwguWfXvWP32QPspTcHrvUyldY',\n",
       " 'updatedRange': \"'【#11~12】競合調査2.0'!D43:D62\",\n",
       " 'updatedRows': 20,\n",
       " 'updatedColumns': 1,\n",
       " 'updatedCells': 20}"
      ]
     },
     "execution_count": 51,
     "metadata": {},
     "output_type": "execute_result"
    }
   ],
   "source": [
    "first_prep_sheet=first_prep_sheets.worksheet('【#11~12】競合調査2.0')\n",
    "ds= first_prep_sheet.range('D43:D62')\n",
    "for i, key in enumerate(domain_list):\n",
    "    ds[i].value = domain_list[i]\n",
    "\n",
    "first_prep_sheet.update_cells(ds)"
   ]
  },
  {
   "cell_type": "code",
   "execution_count": null,
   "metadata": {},
   "outputs": [],
   "source": [
    "first_prep_sheet=first_prep_sheets.worksheet('【#11~12】競合調査2.0')\n",
    "ds= first_prep_sheet.range('D43:D62')\n",
    "for i, key in enumerate(domain_list):\n",
    "    ds[i].value = domain_list[i]\n",
    "\n",
    "first_prep_sheet.update_cells(ds)"
   ]
  }
 ],
 "metadata": {
  "kernelspec": {
   "display_name": "env",
   "language": "python",
   "name": "python3"
  },
  "language_info": {
   "codemirror_mode": {
    "name": "ipython",
    "version": 3
   },
   "file_extension": ".py",
   "mimetype": "text/x-python",
   "name": "python",
   "nbconvert_exporter": "python",
   "pygments_lexer": "ipython3",
   "version": "3.10.6"
  },
  "orig_nbformat": 4,
  "vscode": {
   "interpreter": {
    "hash": "e8b6d74f24017c8fc7c44cc222b5604905256e57ceba56d01977d80487ec290a"
   }
  }
 },
 "nbformat": 4,
 "nbformat_minor": 2
}
