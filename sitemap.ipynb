{
 "cells": [
  {
   "cell_type": "code",
   "execution_count": 1,
   "metadata": {},
   "outputs": [],
   "source": [
    "import sys\n",
    "import urllib3\n",
    "from bs4 import BeautifulSoup\n",
    "\n",
    "sys.path.append('/Users/suzukiharumasaru/apps/WG-RPA/pytools')\n",
    "\n",
    "import pandas as pd\n",
    "from gsheets import GSheets\n",
    "# インスタンスを生成\n",
    "creds = '/Users/suzukiharumasaru/apps/WG-RPA/seacrets/rpa-shokikikaku-a6bba716cf27.json'\n",
    "gs = GSheets(creds)\n",
    "\n",
    "# 必要な情報を取得する\n",
    "input_id = '1hQikhwgt8VSNC6GcfhFhHqQPAfoLygBJrK0cG_Ja3xc'\n",
    "first_prep_id = '1Dt6KNrC98EjJ3hUxaKwguWfXvWP32QPspTcHrvUyldY'\n",
    "\n",
    "input_sheets = gs.gc.open_by_key(input_id)\n",
    "first_prep_sheets = gs.gc.open_by_key(first_prep_id)"
   ]
  },
  {
   "cell_type": "code",
   "execution_count": 2,
   "metadata": {},
   "outputs": [],
   "source": [
    "input_sheet = input_sheets.worksheet('input')\n",
    "content = input_sheet.get_values()\n",
    "#シートの中身をデータフレーム化\n",
    "input_df = pd.DataFrame(content, columns = content[0]).drop(0)\n",
    "service_comps = input_df[\"カテゴリ系競合（最大8つまで）※除外するディレクトリがある場合には『,』を記載してください\"][1].splitlines()\n",
    "article_comps = input_df[\"記事系競合（最大8つまで）\"][1].splitlines()"
   ]
  },
  {
   "cell_type": "code",
   "execution_count": 3,
   "metadata": {},
   "outputs": [
    {
     "data": {
      "text/plain": [
       "['https://www.wifi-rental.com/,media',\n",
       " 'https://www.netage.ne.jp/,column',\n",
       " 'https://wifistore.jp/,column',\n",
       " 'https://www.rental-store.jp/',\n",
       " 'https://wifi-rent.jp/']"
      ]
     },
     "execution_count": 3,
     "metadata": {},
     "output_type": "execute_result"
    }
   ],
   "source": [
    "service_comps"
   ]
  },
  {
   "cell_type": "code",
   "execution_count": 12,
   "metadata": {},
   "outputs": [
    {
     "data": {
      "text/plain": [
       "{'https://www.wifi-rental.com/': ['media', '【公式】WiFiレンタルどっとこむ｜WiFiレンタル日本国内専用'],\n",
       " 'https://www.netage.ne.jp/': ['column',\n",
       "  '【公式】NETAGE 日本国内 WiFi レンタル 出張・旅行・帰国などにとっても便利！'],\n",
       " 'https://wifistore.jp/': ['column', '【公式】WiFiストア | 各社WiFiを徹底比較'],\n",
       " 'https://www.rental-store.jp/': ['', '【WiFiレンタル屋さん】\\u3000日本国内用WiFiルーターレンタル店'],\n",
       " 'https://wifi-rent.jp/': ['', '国内用wifiレンタル 縁人 | Wi-Fiレンタルサービス | ']}"
      ]
     },
     "execution_count": 12,
     "metadata": {},
     "output_type": "execute_result"
    }
   ],
   "source": [
    "dicts={}\n",
    "http = urllib3.PoolManager()\n",
    "for i, comp in enumerate(service_comps):\n",
    "    key = service_comps[i].split(\",\")[0]\n",
    "    response = http.request('get', key)\n",
    "    soup = BeautifulSoup(response.data, 'html.parser')\n",
    "    title = soup.find('title').text\n",
    "    try:\n",
    "        val = service_comps[i].split(\",\")[1]\n",
    "    except:\n",
    "        val = ''\n",
    "    dicts[key] = [val,title]\n",
    "dicts"
   ]
  },
  {
   "cell_type": "code",
   "execution_count": 17,
   "metadata": {},
   "outputs": [
    {
     "name": "stdout",
     "output_type": "stream",
     "text": [
      "【公式】WiFiレンタルどっとこむ｜WiFiレンタル日本国内専用\n",
      "【公式】NETAGE 日本国内 WiFi レンタル 出張・旅行・帰国などにとっても便利！\n",
      "【公式】WiFiストア | 各社WiFiを徹底比較\n",
      "【WiFiレンタル屋さん】　日本国内用WiFiルーターレンタル店\n",
      "国内用wifiレンタル 縁人 | Wi-Fiレンタルサービス | \n"
     ]
    }
   ],
   "source": [
    "for i,items in enumerate(dicts.items()):\n",
    "    print(items[1][1])"
   ]
  },
  {
   "cell_type": "code",
   "execution_count": 18,
   "metadata": {},
   "outputs": [
    {
     "data": {
      "text/plain": [
       "{'spreadsheetId': '1Dt6KNrC98EjJ3hUxaKwguWfXvWP32QPspTcHrvUyldY',\n",
       " 'updatedRange': \"'【#16】競合キーワード抽出「初期設定」'!C11:C18\",\n",
       " 'updatedRows': 8,\n",
       " 'updatedColumns': 1,\n",
       " 'updatedCells': 8}"
      ]
     },
     "execution_count": 18,
     "metadata": {},
     "output_type": "execute_result"
    }
   ],
   "source": [
    "first_prep_sheet=first_prep_sheets.worksheet('【#16】競合キーワード抽出「初期設定」')\n",
    "ds= first_prep_sheet.range('D11:D18')\n",
    "for i,items in enumerate(dicts.items()):\n",
    "    ds[i].value = items[0]\n",
    "\n",
    "first_prep_sheet.update_cells(ds)\n",
    "\n",
    "ds= first_prep_sheet.range('E11:E18')\n",
    "for i,items in enumerate(dicts.items()):\n",
    "    ds[i].value = items[1][0]\n",
    "\n",
    "ds= first_prep_sheet.range('C11:C18')\n",
    "for i,items in enumerate(dicts.items()):\n",
    "    ds[i].value = items[1][1]\n",
    "\n",
    "first_prep_sheet.update_cells(ds)"
   ]
  },
  {
   "cell_type": "code",
   "execution_count": 24,
   "metadata": {},
   "outputs": [
    {
     "name": "stdout",
     "output_type": "stream",
     "text": [
      "https://www.wifi-rental.com/media/\n",
      "https://wimax-broad.jp/column/\n",
      "https://www.just-size.net/internet/\n",
      "https://shibarinashi-wifi.jp/media/\n",
      "https://www.mobistar.jp/\n",
      "https://wimax比較.com/\n"
     ]
    },
    {
     "data": {
      "text/plain": [
       "{'https://www.wifi-rental.com/media/': 'TRENDi  生活に役立つトレンド・デジタル情報をお届け',\n",
       " 'https://wimax-broad.jp/column/': 'Broad WiMAX 通信 | WiMAXのおすすめ比較/最新情報を発信する情報サイト',\n",
       " 'https://www.just-size.net/internet/': 'ネット比較・検証｜Wi-Fiの森 | インターネット回線の専門家が監修する総合情報メディア',\n",
       " 'https://shibarinashi-wifi.jp/media/': 'コムナビ',\n",
       " 'https://www.mobistar.jp/': '海外携帯レンタル比較ナビ｜海外・国内用Wi-Fi携帯の比較情報サイト',\n",
       " 'https://wimax比較.com/': 'WiMAX比較.com~おすすめプロバイダ23社ランキング2023年2月'}"
      ]
     },
     "execution_count": 24,
     "metadata": {},
     "output_type": "execute_result"
    }
   ],
   "source": [
    "article_dicts={}\n",
    "http = urllib3.PoolManager()\n",
    "for comp in article_comps:\n",
    "    key = comp\n",
    "    print(key)\n",
    "    response = http.request('get', key)\n",
    "    soup = BeautifulSoup(response.data, 'html.parser')\n",
    "    title = soup.find('title').text\n",
    "    \n",
    "    article_dicts[key] = title\n",
    "\n",
    "article_dicts"
   ]
  },
  {
   "cell_type": "code",
   "execution_count": 32,
   "metadata": {},
   "outputs": [
    {
     "data": {
      "text/plain": [
       "{'spreadsheetId': '1Dt6KNrC98EjJ3hUxaKwguWfXvWP32QPspTcHrvUyldY',\n",
       " 'updatedRange': \"'【#16】競合キーワード抽出「初期設定」'!I11:I18\",\n",
       " 'updatedRows': 8,\n",
       " 'updatedColumns': 1,\n",
       " 'updatedCells': 8}"
      ]
     },
     "execution_count": 32,
     "metadata": {},
     "output_type": "execute_result"
    }
   ],
   "source": [
    "first_prep_sheet=first_prep_sheets.worksheet('【#16】競合キーワード抽出「初期設定」')\n",
    "ds= first_prep_sheet.range('J11:J18')\n",
    "for i,items in enumerate(article_dicts.items()):\n",
    "    ds[i].value = items[0]\n",
    "\n",
    "first_prep_sheet.update_cells(ds)\n",
    "\n",
    "ds= first_prep_sheet.range('I11:I18')\n",
    "for i,items in enumerate(article_dicts.items()):\n",
    "    ds[i].value = items[1]\n",
    "\n",
    "first_prep_sheet.update_cells(ds)"
   ]
  },
  {
   "cell_type": "code",
   "execution_count": 31,
   "metadata": {},
   "outputs": [
    {
     "name": "stdout",
     "output_type": "stream",
     "text": [
      "https://www.wifi-rental.com/media/\n",
      "https://wimax-broad.jp/column/\n",
      "https://www.just-size.net/internet/\n",
      "https://shibarinashi-wifi.jp/media/\n",
      "https://www.mobistar.jp/\n",
      "https://wimax比較.com/\n"
     ]
    }
   ],
   "source": [
    "for i,items in enumerate(article_dicts.items()):\n",
    "    print(items[0])"
   ]
  },
  {
   "cell_type": "code",
   "execution_count": 28,
   "metadata": {},
   "outputs": [
    {
     "data": {
      "text/plain": [
       "{'https://www.wifi-rental.com/media/': 'TRENDi  生活に役立つトレンド・デジタル情報をお届け',\n",
       " 'https://wimax-broad.jp/column/': 'Broad WiMAX 通信 | WiMAXのおすすめ比較/最新情報を発信する情報サイト',\n",
       " 'https://www.just-size.net/internet/': 'ネット比較・検証｜Wi-Fiの森 | インターネット回線の専門家が監修する総合情報メディア',\n",
       " 'https://shibarinashi-wifi.jp/media/': 'コムナビ',\n",
       " 'https://www.mobistar.jp/': '海外携帯レンタル比較ナビ｜海外・国内用Wi-Fi携帯の比較情報サイト',\n",
       " 'https://wimax比較.com/': 'WiMAX比較.com~おすすめプロバイダ23社ランキング2023年2月'}"
      ]
     },
     "execution_count": 28,
     "metadata": {},
     "output_type": "execute_result"
    }
   ],
   "source": [
    "article_dicts"
   ]
  },
  {
   "cell_type": "code",
   "execution_count": null,
   "metadata": {},
   "outputs": [],
   "source": []
  }
 ],
 "metadata": {
  "kernelspec": {
   "display_name": "venv-wg",
   "language": "python",
   "name": "python3"
  },
  "language_info": {
   "codemirror_mode": {
    "name": "ipython",
    "version": 3
   },
   "file_extension": ".py",
   "mimetype": "text/x-python",
   "name": "python",
   "nbconvert_exporter": "python",
   "pygments_lexer": "ipython3",
   "version": "3.10.6"
  },
  "orig_nbformat": 4,
  "vscode": {
   "interpreter": {
    "hash": "6c387462cef8b24bcf2cb3efb5f99e54697de52606751abd95c472325ecd5e48"
   }
  }
 },
 "nbformat": 4,
 "nbformat_minor": 2
}
